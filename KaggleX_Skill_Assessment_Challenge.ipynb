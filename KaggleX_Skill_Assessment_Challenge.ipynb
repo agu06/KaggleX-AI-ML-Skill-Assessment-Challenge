{
  "nbformat": 4,
  "nbformat_minor": 0,
  "metadata": {
    "colab": {
      "provenance": [],
      "authorship_tag": "ABX9TyOMTvZlaMFSg9azL/TTyYq/",
      "include_colab_link": true
    },
    "kernelspec": {
      "name": "python3",
      "display_name": "Python 3"
    },
    "language_info": {
      "name": "python"
    }
  },
  "cells": [
    {
      "cell_type": "markdown",
      "metadata": {
        "id": "view-in-github",
        "colab_type": "text"
      },
      "source": [
        "<a href=\"https://colab.research.google.com/github/agu06/KaggleX-AI-ML-Skill-Assessment-Challenge/blob/main/KaggleX_Skill_Assessment_Challenge.ipynb\" target=\"_parent\"><img src=\"https://colab.research.google.com/assets/colab-badge.svg\" alt=\"Open In Colab\"/></a>"
      ]
    },
    {
      "cell_type": "code",
      "execution_count": null,
      "metadata": {
        "id": "v8FRknhW4Vpm"
      },
      "outputs": [],
      "source": [
        "import pandas as pd\n",
        "import numpy as np\n",
        "import matplotlib.pyplot as plt\n",
        "import seaborn as sns\n",
        "from sklearn.model_selection import train_test_split\n",
        "from sklearn.linear_model import LinearRegression\n",
        "from sklearn.ensemble import RandomForestRegressor\n",
        "from sklearn.metrics import mean_absolute_error, mean_squared_error"
      ]
    },
    {
      "cell_type": "code",
      "source": [
        "train_data = pd.read_csv('/content/train.csv')\n",
        "test_data = pd.read_csv('/content/test.csv')\n",
        "submission_data = pd.read_csv('/content/sample_submission.csv')"
      ],
      "metadata": {
        "id": "feYUyQsT7lM9"
      },
      "execution_count": null,
      "outputs": []
    },
    {
      "cell_type": "code",
      "source": [
        "print(train_data.head())"
      ],
      "metadata": {
        "colab": {
          "base_uri": "https://localhost:8080/"
        },
        "id": "uE9oYVv171Qn",
        "outputId": "0035caf4-db86-46be-c2f9-202f25acc51a"
      },
      "execution_count": null,
      "outputs": [
        {
          "output_type": "stream",
          "name": "stdout",
          "text": [
            "   id    brand          model  model_year  milage fuel_type  \\\n",
            "0   0     Ford   F-150 Lariat        2018   74349  Gasoline   \n",
            "1   1      BMW          335 i        2007   80000  Gasoline   \n",
            "2   2   Jaguar      XF Luxury        2009   91491  Gasoline   \n",
            "3   3      BMW   X7 xDrive40i        2022    2437    Hybrid   \n",
            "4   4  Pontiac  Firebird Base        2001  111000  Gasoline   \n",
            "\n",
            "                                              engine  \\\n",
            "0      375.0HP 3.5L V6 Cylinder Engine Gasoline Fuel   \n",
            "1  300.0HP 3.0L Straight 6 Cylinder Engine Gasoli...   \n",
            "2       300.0HP 4.2L 8 Cylinder Engine Gasoline Fuel   \n",
            "3  335.0HP 3.0L Straight 6 Cylinder Engine Gasoli...   \n",
            "4      200.0HP 3.8L V6 Cylinder Engine Gasoline Fuel   \n",
            "\n",
            "                     transmission ext_col int_col       accident clean_title  \\\n",
            "0                    10-Speed A/T    Blue    Gray  None reported         Yes   \n",
            "1                     6-Speed M/T   Black   Black  None reported         Yes   \n",
            "2                     6-Speed A/T  Purple   Beige  None reported         Yes   \n",
            "3  Transmission w/Dual Shift Mode    Gray   Brown  None reported         Yes   \n",
            "4                             A/T   White   Black  None reported         Yes   \n",
            "\n",
            "   price  \n",
            "0  11000  \n",
            "1   8250  \n",
            "2  15000  \n",
            "3  63500  \n",
            "4   7850  \n"
          ]
        }
      ]
    },
    {
      "cell_type": "code",
      "source": [
        "print(train_data.describe(include='all'))"
      ],
      "metadata": {
        "colab": {
          "base_uri": "https://localhost:8080/"
        },
        "id": "W0V3OZAStx_C",
        "outputId": "ab99055d-3e72-42cc-d088-d0b77cf2287d"
      },
      "execution_count": null,
      "outputs": [
        {
          "output_type": "stream",
          "name": "stdout",
          "text": [
            "                  id  brand      model    model_year         milage fuel_type  \\\n",
            "count   54273.000000  54273      54273  54273.000000   54273.000000     54273   \n",
            "unique           NaN     53       1827           NaN            NaN         7   \n",
            "top              NaN    BMW  F-150 XLT           NaN            NaN  Gasoline   \n",
            "freq             NaN   7369        780           NaN            NaN     49439   \n",
            "mean    27136.000000    NaN        NaN   2015.091979   72746.175667       NaN   \n",
            "std     15667.409917    NaN        NaN      5.588909   50469.490448       NaN   \n",
            "min         0.000000    NaN        NaN   1974.000000     100.000000       NaN   \n",
            "25%     13568.000000    NaN        NaN   2012.000000   32268.000000       NaN   \n",
            "50%     27136.000000    NaN        NaN   2016.000000   66107.000000       NaN   \n",
            "75%     40704.000000    NaN        NaN   2019.000000  102000.000000       NaN   \n",
            "max     54272.000000    NaN        NaN   2024.000000  405000.000000       NaN   \n",
            "\n",
            "                                                   engine transmission  \\\n",
            "count                                               54273        54273   \n",
            "unique                                               1061           46   \n",
            "top     300.0HP 3.0L Straight 6 Cylinder Engine Gasoli...          A/T   \n",
            "freq                                                 1452        16757   \n",
            "mean                                                  NaN          NaN   \n",
            "std                                                   NaN          NaN   \n",
            "min                                                   NaN          NaN   \n",
            "25%                                                   NaN          NaN   \n",
            "50%                                                   NaN          NaN   \n",
            "75%                                                   NaN          NaN   \n",
            "max                                                   NaN          NaN   \n",
            "\n",
            "       ext_col int_col       accident clean_title         price  \n",
            "count    54273   54273          54273       54273  5.427300e+04  \n",
            "unique     260     124              2           1           NaN  \n",
            "top      Black   Black  None reported         Yes           NaN  \n",
            "freq     15078   31820          39896       54273           NaN  \n",
            "mean       NaN     NaN            NaN         NaN  3.921844e+04  \n",
            "std        NaN     NaN            NaN         NaN  7.282634e+04  \n",
            "min        NaN     NaN            NaN         NaN  2.000000e+03  \n",
            "25%        NaN     NaN            NaN         NaN  1.550000e+04  \n",
            "50%        NaN     NaN            NaN         NaN  2.800000e+04  \n",
            "75%        NaN     NaN            NaN         NaN  4.500000e+04  \n",
            "max        NaN     NaN            NaN         NaN  2.954083e+06  \n"
          ]
        }
      ]
    },
    {
      "cell_type": "code",
      "source": [
        "print(train_data.info())"
      ],
      "metadata": {
        "colab": {
          "base_uri": "https://localhost:8080/"
        },
        "id": "e3NVA4vDuxuo",
        "outputId": "671a384f-fa54-4d47-a036-cf52f7d9c6a5"
      },
      "execution_count": null,
      "outputs": [
        {
          "output_type": "stream",
          "name": "stdout",
          "text": [
            "<class 'pandas.core.frame.DataFrame'>\n",
            "RangeIndex: 54273 entries, 0 to 54272\n",
            "Data columns (total 13 columns):\n",
            " #   Column        Non-Null Count  Dtype \n",
            "---  ------        --------------  ----- \n",
            " 0   id            54273 non-null  int64 \n",
            " 1   brand         54273 non-null  object\n",
            " 2   model         54273 non-null  object\n",
            " 3   model_year    54273 non-null  int64 \n",
            " 4   milage        54273 non-null  int64 \n",
            " 5   fuel_type     54273 non-null  object\n",
            " 6   engine        54273 non-null  object\n",
            " 7   transmission  54273 non-null  object\n",
            " 8   ext_col       54273 non-null  object\n",
            " 9   int_col       54273 non-null  object\n",
            " 10  accident      54273 non-null  object\n",
            " 11  clean_title   54273 non-null  object\n",
            " 12  price         54273 non-null  int64 \n",
            "dtypes: int64(4), object(9)\n",
            "memory usage: 5.4+ MB\n",
            "None\n"
          ]
        }
      ]
    },
    {
      "cell_type": "code",
      "source": [
        "print(train_data.shape)\n"
      ],
      "metadata": {
        "colab": {
          "base_uri": "https://localhost:8080/"
        },
        "id": "9wvzuwOr-0wE",
        "outputId": "a3369c5a-ae2c-4524-e5a8-1f1ce86231cf"
      },
      "execution_count": null,
      "outputs": [
        {
          "output_type": "stream",
          "name": "stdout",
          "text": [
            "(54273, 13)\n"
          ]
        }
      ]
    },
    {
      "cell_type": "code",
      "source": [
        "print(train_data.value_counts())"
      ],
      "metadata": {
        "colab": {
          "base_uri": "https://localhost:8080/"
        },
        "id": "7UXnroaACdew",
        "outputId": "8a68ccb9-6c2e-437e-9150-c3503252d374"
      },
      "execution_count": null,
      "outputs": [
        {
          "output_type": "stream",
          "name": "stdout",
          "text": [
            "id     brand      model                             model_year  milage  fuel_type  engine                                                        transmission                    ext_col  int_col  accident                                clean_title  price\n",
            "0      Ford       F-150 Lariat                      2018        74349   Gasoline   375.0HP 3.5L V6 Cylinder Engine Gasoline Fuel                 10-Speed A/T                    Blue     Gray     None reported                           Yes          11000    1\n",
            "36174  Toyota     RAV4 Base                         2008        160000  Gasoline   179.0HP 2.5L 4 Cylinder Engine Gasoline Fuel                  4-Speed A/T                     Black    Red      None reported                           Yes          8000     1\n",
            "36176  Hummer     H2 Base                           2006        153818  Gasoline   316.0HP 6.0L 8 Cylinder Engine Gasoline Fuel                  A/T                             Black    Black    At least 1 accident or damage reported  Yes          13000    1\n",
            "36177  Audi       S6 4.0T                           2018        31500   Gasoline   420.0HP 4.0L 8 Cylinder Engine Gasoline Fuel                  7-Speed A/T                     Black    Black    None reported                           Yes          78999    1\n",
            "36178  Audi       S5 3.0T Premium Plus              2014        99769   Gasoline   333.0HP 3.0L V6 Cylinder Engine Gasoline Fuel                 8-Speed A/T                     Gray     Black    None reported                           Yes          23995    1\n",
            "                                                                                                                                                                                                                                                                ..\n",
            "18094  Chevrolet  Camaro 2SS                        2016        49600   Gasoline   455.0HP 6.2L 8 Cylinder Engine Gasoline Fuel                  8-Speed A/T                     Red      Black    None reported                           Yes          32500    1\n",
            "18095  Audi       SQ5 3.0T Premium Plus             2015        60000   Gasoline   354.0HP 3.0L V6 Cylinder Engine Gasoline Fuel                 Transmission w/Dual Shift Mode  White    Black    At least 1 accident or damage reported  Yes          26000    1\n",
            "18096  Tesla      Model Y Long Range                2021        48000   Gasoline   425.0HP Electric Motor Electric Fuel System                   A/T                             White    Black    None reported                           Yes          53000    1\n",
            "18097  Ford       Mustang EcoBoost Premium          2022        41650   Gasoline   310.0HP 2.3L 4 Cylinder Engine Gasoline Fuel                  A/T                             White    Black    None reported                           Yes          65000    1\n",
            "54272  Audi       A5 Sportback S line Premium Plus  2021        35000   Hybrid     261.0HP 2.0L 4 Cylinder Engine Gasoline/Mild Electric Hybrid  8-Speed A/T                     Black    Black    None reported                           Yes          37499    1\n",
            "Name: count, Length: 54273, dtype: int64\n"
          ]
        }
      ]
    },
    {
      "cell_type": "code",
      "source": [
        "print(test_data.head())"
      ],
      "metadata": {
        "colab": {
          "base_uri": "https://localhost:8080/"
        },
        "id": "gZ3zl3OdHtxm",
        "outputId": "ce67ea15-0d24-4d45-cd07-ac4367e0433d"
      },
      "execution_count": null,
      "outputs": [
        {
          "output_type": "stream",
          "name": "stdout",
          "text": [
            "      id          brand                                              model  \\\n",
            "0  54273  Mercedes-Benz                                      E-Class E 350   \n",
            "1  54274          Lexus                                        RX 350 Base   \n",
            "2  54275  Mercedes-Benz                                      C-Class C 300   \n",
            "3  54276           Land  Rover Range Rover 5.0L Supercharged Autobiogra...   \n",
            "4  54277            BMW                                       X6 xDrive40i   \n",
            "\n",
            "   model_year  milage fuel_type  \\\n",
            "0        2014   73000  Gasoline   \n",
            "1        2015  128032  Gasoline   \n",
            "2        2015   51983  Gasoline   \n",
            "3        2018   29500  Gasoline   \n",
            "4        2020   90000  Gasoline   \n",
            "\n",
            "                                              engine  \\\n",
            "0      302.0HP 3.5L V6 Cylinder Engine Gasoline Fuel   \n",
            "1      275.0HP 3.5L V6 Cylinder Engine Gasoline Fuel   \n",
            "2       241.0HP 2.0L 4 Cylinder Engine Gasoline Fuel   \n",
            "3       518.0HP 5.0L 8 Cylinder Engine Gasoline Fuel   \n",
            "4  335.0HP 3.0L Straight 6 Cylinder Engine Gasoli...   \n",
            "\n",
            "                     transmission ext_col int_col  \\\n",
            "0                             A/T   White   Beige   \n",
            "1                     8-Speed A/T  Silver   Black   \n",
            "2                     7-Speed A/T    Blue   White   \n",
            "3  Transmission w/Dual Shift Mode   White   White   \n",
            "4                     8-Speed A/T   White   Black   \n",
            "\n",
            "                                 accident clean_title  \n",
            "0                           None reported         Yes  \n",
            "1                           None reported         Yes  \n",
            "2                           None reported         Yes  \n",
            "3  At least 1 accident or damage reported         Yes  \n",
            "4  At least 1 accident or damage reported         Yes  \n"
          ]
        }
      ]
    },
    {
      "cell_type": "code",
      "source": [
        "print(submission_data.head())"
      ],
      "metadata": {
        "colab": {
          "base_uri": "https://localhost:8080/"
        },
        "id": "LF5V_f6wIlWa",
        "outputId": "3b70fbbe-16df-4b30-bf2f-fc63f638264c"
      },
      "execution_count": null,
      "outputs": [
        {
          "output_type": "stream",
          "name": "stdout",
          "text": [
            "      id      price\n",
            "0  54273  39218.443\n",
            "1  54274  39218.443\n",
            "2  54275  39218.443\n",
            "3  54276  39218.443\n",
            "4  54277  39218.443\n"
          ]
        }
      ]
    },
    {
      "cell_type": "code",
      "source": [
        "print(train_data.groupby('brand')['price'].mean().apply(lambda x: format(x, '.2f')))"
      ],
      "metadata": {
        "colab": {
          "base_uri": "https://localhost:8080/"
        },
        "id": "My3ZNLtoI8dt",
        "outputId": "a12274e0-3763-42f5-a506-4b1fd7082cac"
      },
      "execution_count": null,
      "outputs": [
        {
          "output_type": "stream",
          "name": "stdout",
          "text": [
            "brand\n",
            "Acura              27899.55\n",
            "Alfa               45712.24\n",
            "Aston             117885.82\n",
            "Audi               37091.37\n",
            "BMW                40276.03\n",
            "Bentley           105211.79\n",
            "Bugatti          1950995.00\n",
            "Buick              27693.25\n",
            "Cadillac           36575.84\n",
            "Chevrolet          44751.11\n",
            "Chrysler           19518.67\n",
            "Dodge              28938.06\n",
            "FIAT               14183.88\n",
            "Ferrari           158404.33\n",
            "Ford               38154.06\n",
            "GMC                41570.95\n",
            "Genesis            51462.40\n",
            "Honda              18568.90\n",
            "Hummer             30578.99\n",
            "Hyundai            18931.53\n",
            "INFINITI           29694.08\n",
            "Jaguar             34840.40\n",
            "Jeep               30703.34\n",
            "Kia                29087.56\n",
            "Lamborghini       144773.86\n",
            "Land               47714.27\n",
            "Lexus              30685.44\n",
            "Lincoln            27733.62\n",
            "Lotus              38456.58\n",
            "Lucid              84185.00\n",
            "MINI               16055.87\n",
            "Maserati           56872.70\n",
            "Maybach            60333.33\n",
            "Mazda              24223.28\n",
            "McLaren           109174.77\n",
            "Mercedes-Benz      47094.04\n",
            "Mercury            14561.80\n",
            "Mitsubishi         13434.54\n",
            "Nissan             23874.30\n",
            "Plymouth            3850.00\n",
            "Pontiac            17526.06\n",
            "Porsche            63742.15\n",
            "RAM                45126.19\n",
            "Rivian             79495.81\n",
            "Rolls-Royce       131365.08\n",
            "Saturn             13733.40\n",
            "Scion              12939.53\n",
            "Subaru             22505.88\n",
            "Suzuki             11099.75\n",
            "Tesla              49056.66\n",
            "Toyota             29080.00\n",
            "Volkswagen         22603.02\n",
            "Volvo              27693.74\n",
            "Name: price, dtype: object\n"
          ]
        }
      ]
    },
    {
      "cell_type": "code",
      "source": [
        "print(train_data['brand'].unique())"
      ],
      "metadata": {
        "colab": {
          "base_uri": "https://localhost:8080/"
        },
        "id": "5uKQa8ISH72w",
        "outputId": "77ec500c-b36a-4df7-9040-5263bab6382d"
      },
      "execution_count": null,
      "outputs": [
        {
          "output_type": "stream",
          "name": "stdout",
          "text": [
            "['Ford' 'BMW' 'Jaguar' 'Pontiac' 'Acura' 'Audi' 'GMC' 'Maserati'\n",
            " 'Chevrolet' 'Porsche' 'Mercedes-Benz' 'Tesla' 'Lexus' 'Kia' 'Lincoln'\n",
            " 'Dodge' 'Volkswagen' 'Land' 'Cadillac' 'Mazda' 'RAM' 'Subaru' 'Hyundai'\n",
            " 'MINI' 'Jeep' 'Honda' 'Hummer' 'Nissan' 'Toyota' 'Volvo' 'Genesis'\n",
            " 'Mitsubishi' 'Buick' 'INFINITI' 'McLaren' 'Scion' 'Lamborghini' 'Bentley'\n",
            " 'Suzuki' 'Ferrari' 'Alfa' 'Rolls-Royce' 'Chrysler' 'Aston' 'Rivian'\n",
            " 'Lotus' 'Saturn' 'Lucid' 'Mercury' 'Maybach' 'FIAT' 'Plymouth' 'Bugatti']\n"
          ]
        }
      ]
    },
    {
      "cell_type": "code",
      "source": [
        "print(train_data['brand'].value_counts())"
      ],
      "metadata": {
        "colab": {
          "base_uri": "https://localhost:8080/"
        },
        "id": "LLRM0dvYLdZn",
        "outputId": "45d0c776-a17e-4c08-9a24-46fa62dae090"
      },
      "execution_count": null,
      "outputs": [
        {
          "output_type": "stream",
          "name": "stdout",
          "text": [
            "brand\n",
            "BMW              7369\n",
            "Ford             6706\n",
            "Mercedes-Benz    5087\n",
            "Chevrolet        4424\n",
            "Audi             2922\n",
            "Porsche          2627\n",
            "Toyota           2315\n",
            "Lexus            2257\n",
            "Jeep             2247\n",
            "Land             1995\n",
            "Cadillac         1565\n",
            "Nissan           1252\n",
            "GMC              1076\n",
            "Dodge            1011\n",
            "RAM               966\n",
            "INFINITI          957\n",
            "Lincoln           767\n",
            "Mazda             748\n",
            "Subaru            739\n",
            "Hyundai           694\n",
            "Jaguar            661\n",
            "Volkswagen        628\n",
            "Honda             624\n",
            "Acura             580\n",
            "Kia               526\n",
            "Volvo             452\n",
            "MINI              364\n",
            "Maserati          293\n",
            "Bentley           284\n",
            "Chrysler          258\n",
            "Genesis           249\n",
            "Buick             228\n",
            "Mitsubishi        182\n",
            "Hummer            176\n",
            "Pontiac           149\n",
            "Alfa              144\n",
            "Rolls-Royce       142\n",
            "Lamborghini       122\n",
            "Tesla             110\n",
            "Ferrari            87\n",
            "Saturn             58\n",
            "Scion              53\n",
            "Aston              50\n",
            "McLaren            43\n",
            "Rivian             27\n",
            "Mercury            20\n",
            "FIAT               16\n",
            "Lotus              12\n",
            "Suzuki              4\n",
            "Maybach             3\n",
            "Lucid               2\n",
            "Plymouth            1\n",
            "Bugatti             1\n",
            "Name: count, dtype: int64\n"
          ]
        }
      ]
    },
    {
      "cell_type": "code",
      "source": [
        "print(train_data[train_data['brand'] == 'Bugatti'][['brand', 'model', 'price']])"
      ],
      "metadata": {
        "colab": {
          "base_uri": "https://localhost:8080/"
        },
        "id": "sTvi-nsxMXtQ",
        "outputId": "74cd7911-1ecd-463d-9d0b-3f1b98b0b5e6"
      },
      "execution_count": null,
      "outputs": [
        {
          "output_type": "stream",
          "name": "stdout",
          "text": [
            "         brand                    model    price\n",
            "48311  Bugatti  Veyron 16.4 Grand Sport  1950995\n"
          ]
        }
      ]
    },
    {
      "cell_type": "code",
      "source": [
        "print(train_data.sort_values('price', ascending=False)[['brand', 'model', 'model_year', 'price']].head(100))"
      ],
      "metadata": {
        "colab": {
          "base_uri": "https://localhost:8080/"
        },
        "id": "m1wRwQksRxKc",
        "outputId": "5809e6ea-9414-47f4-a104-72b0dff9b5fe"
      },
      "execution_count": null,
      "outputs": [
        {
          "output_type": "stream",
          "name": "stdout",
          "text": [
            "               brand                    model  model_year    price\n",
            "39761      Chevrolet        Suburban 1500 LTZ        2010  2954083\n",
            "37341        Porsche           911 Carrera 4S        2005  2954083\n",
            "41065      Chevrolet                 Tahoe LT        2017  2954083\n",
            "19661           Audi     A7 3.0T Premium Plus        2017  2954083\n",
            "5584   Mercedes-Benz  SL-Class SL500 Roadster        2004  2954083\n",
            "...              ...                      ...         ...      ...\n",
            "4999   Mercedes-Benz            AMG G 63 Base        2020   491836\n",
            "47910    Lamborghini         Aventador S Base        2018   491836\n",
            "12452           Ford                F-150 XLT        2020   491836\n",
            "49143       INFINITI                QX80 Base        2018   491836\n",
            "41102    Rolls-Royce                  Phantom        2022   489995\n",
            "\n",
            "[100 rows x 4 columns]\n"
          ]
        }
      ]
    },
    {
      "cell_type": "code",
      "source": [
        "fig, axes = plt.subplots(1, 2, figsize=(12, 6))\n",
        "\n",
        "sns.boxplot(x=train_data['milage'], ax=axes[0])\n",
        "axes[0].set_title('Boxplot of milage')\n",
        "\n",
        "sns.boxplot(x=train_data['price'], ax=axes[1])\n",
        "axes[1].set_title('Boxplot of price')\n",
        "\n",
        "plt.tight_layout()\n",
        "plt.show()"
      ],
      "metadata": {
        "id": "9KSUVvwtU0oO",
        "colab": {
          "base_uri": "https://localhost:8080/",
          "height": 569
        },
        "outputId": "34941c3f-05f4-489f-f415-2125cc21384b"
      },
      "execution_count": null,
      "outputs": [
        {
          "output_type": "display_data",
          "data": {
            "text/plain": [
              "<Figure size 1200x600 with 2 Axes>"
            ],
            "image/png": "[encoded data removed]"
          },
          "metadata": {}
        }
      ]
    },
    {
      "cell_type": "code",
      "source": [
        "print(f\"{train_data['milage'].min()}, {train_data['milage'].max()}\")"
      ],
      "metadata": {
        "colab": {
          "base_uri": "https://localhost:8080/"
        },
        "id": "SCM5w-pd_l33",
        "outputId": "27fa9e1b-1d93-48ac-8472-12796b8c2458"
      },
      "execution_count": null,
      "outputs": [
        {
          "output_type": "stream",
          "name": "stdout",
          "text": [
            "100, 405000\n"
          ]
        }
      ]
    },
    {
      "cell_type": "code",
      "source": [
        "print(f\"Lowest milage: ID={train_data.loc[train_data['milage'].idxmin()]['id']}, Brand={train_data.loc[train_data['milage'].idxmin()]['brand']}, Model={train_data.loc[train_data['milage'].idxmin()]['model']}, Milage={train_data.loc[train_data['milage'].idxmin()]['milage']}\")\n",
        "print(f\"Highest milage: ID={train_data.loc[train_data['milage'].idxmax()]['id']}, Brand={train_data.loc[train_data['milage'].idxmax()]['brand']}, Model={train_data.loc[train_data['milage'].idxmax()]['model']}, Milage={train_data.loc[train_data['milage'].idxmax()]['milage']}\")"
      ],
      "metadata": {
        "colab": {
          "base_uri": "https://localhost:8080/"
        },
        "id": "Zh7DnWI8CECg",
        "outputId": "16134c60-961a-41ab-8eef-cd110655e7c1"
      },
      "execution_count": null,
      "outputs": [
        {
          "output_type": "stream",
          "name": "stdout",
          "text": [
            "Lowest milage: ID=4285, Brand=Lexus, Model=LS 460 Base, Milage=100\n",
            "Highest milage: ID=8674, Brand=Mazda, Model=MX-5 Miata RF Grand Touring, Milage=405000\n"
          ]
        }
      ]
    }
  ]
}